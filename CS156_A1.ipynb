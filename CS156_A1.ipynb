{
  "nbformat": 4,
  "nbformat_minor": 0,
  "metadata": {
    "colab": {
      "name": "CS156 A1.ipynb",
      "provenance": []
    },
    "kernelspec": {
      "name": "python3",
      "display_name": "Python 3"
    }
  },
  "cells": [
    {
      "cell_type": "markdown",
      "metadata": {
        "id": "uknpLya7X4DN",
        "colab_type": "text"
      },
      "source": [
        "# Assignment 1\n",
        "## Part 1: Moore's Law\n",
        "### Question 1\n",
        "After looking at the data, I decided to use the CINT benchmark. Thus, the first steps I will take are to filter the 'summaries' data and store only the data that pertains to the CINT95, CINT2000, and CINT2006 benchmarks into a new Pandas dataframe called 'data'. I do this below."
      ]
    },
    {
      "cell_type": "code",
      "metadata": {
        "id": "04XjUvbYf4b_",
        "colab_type": "code",
        "colab": {
          "base_uri": "https://localhost:8080/",
          "height": 72
        },
        "outputId": "7815808b-35ff-41ad-b36d-9659fa20256c"
      },
      "source": [
        "import pandas as pd\n",
        "import numpy as np\n",
        "\n",
        "benchmarks = pd.read_csv(\"/content/drive/My Drive/CS156/Assignment1/benchmarks.csv\")\n",
        "summaries = pd.read_excel(\"/content/drive/My Drive/CS156/Assignment1/summaries.xlsx\", 0)\n",
        "\n",
        "data = summaries[['hwAvail', 'base']]\n",
        "data.head()\n",
        "\n",
        "valid_benchmarks = summaries['benchType']==('CINT95' or 'CINT2000' or 'CINT2006')\n",
        "\n",
        "data = data[valid_benchmarks]\n",
        "\n"
      ],
      "execution_count": 6,
      "outputs": [
        {
          "output_type": "stream",
          "text": [
            "/usr/local/lib/python3.6/dist-packages/IPython/core/interactiveshell.py:2718: DtypeWarning: Columns (3) have mixed types. Specify dtype option on import or set low_memory=False.\n",
            "  interactivity=interactivity, compiler=compiler, result=result)\n"
          ],
          "name": "stderr"
        }
      ]
    },
    {
      "cell_type": "markdown",
      "metadata": {
        "id": "-NEpDi6qYdcq",
        "colab_type": "text"
      },
      "source": [
        "### Quesiton 2 and 3\n",
        "\n",
        "In the code below, I plot the $\\log_2(\\text{benchmark})$ on the y-axis, and the year on the x-axis of a scatter-plot (in blue), as well as the predicted y's based on my linear regression model (in red).  \n",
        "\n"
      ]
    },
    {
      "cell_type": "code",
      "metadata": {
        "id": "MSaOLayhkfuj",
        "colab_type": "code",
        "outputId": "89235995-e64b-43a0-c106-01a807ed10d7",
        "colab": {
          "base_uri": "https://localhost:8080/",
          "height": 477
        }
      },
      "source": [
        "import matplotlib.pyplot as plt\n",
        "import numpy as np\n",
        "from sklearn import linear_model\n",
        "import datetime as dt\n",
        "\n",
        "#Copying the data to a new dataset, for log2 conversion\n",
        "model_data = pd.DataFrame.copy(data)\n",
        "model_data['hwAvail']=model_data['hwAvail'].map(dt.datetime.toordinal)\n",
        "model_data['base'] = np.log2(model_data['base'])\n",
        "\n",
        "\n",
        "#Creating a linear model\n",
        "X = model_data[[\"hwAvail\"]]\n",
        "y = model_data[\"base\"]\n",
        "lm = linear_model.LinearRegression()\n",
        "model = lm.fit(X, y)\n",
        "\n",
        "#Predicting the benchmarks based on year\n",
        "ypredict = model.predict(model_data[[\"hwAvail\"]])\n",
        "\n",
        "#Plotting real Ys versus predicted Ys\n",
        "plt.scatter(data[\"hwAvail\"], model_data[\"base\"], color='blue')\n",
        "plt.scatter(data[\"hwAvail\"], ypredict, color='red')\n",
        "plt.ylabel('$Log_2$'+\" \"+'of base benchmark')\n",
        "plt.xlabel(\"Year of benchmark\")\n",
        "plt.show()\n",
        "\n",
        "#Getting the slope and intercept of my model\n",
        "slope = model.coef_\n",
        "intercept = model.intercept_\n",
        "print('Your slope is:\\n', slope)\n",
        "print('Your intercept is:\\n', intercept)"
      ],
      "execution_count": 7,
      "outputs": [
        {
          "output_type": "stream",
          "text": [
            "/usr/local/lib/python3.6/dist-packages/pandas/plotting/_matplotlib/converter.py:103: FutureWarning: Using an implicitly registered datetime converter for a matplotlib plotting method. The converter was registered by pandas on import. Future versions of pandas will require you to explicitly register matplotlib converters.\n",
            "\n",
            "To register the converters:\n",
            "\t>>> from pandas.plotting import register_matplotlib_converters\n",
            "\t>>> register_matplotlib_converters()\n",
            "  warnings.warn(msg, FutureWarning)\n"
          ],
          "name": "stderr"
        },
        {
          "output_type": "display_data",
          "data": {
            "image/png": "[encoded data removed]",
            "text/plain": [
              "<Figure size 432x288 with 1 Axes>"
            ]
          },
          "metadata": {
            "tags": []
          }
        },
        {
          "output_type": "stream",
          "text": [
            "Your slope is:\n",
            " [0.00161656]\n",
            "Your intercept is:\n",
            " -1175.5564573786735\n"
          ],
          "name": "stdout"
        }
      ]
    },
    {
      "cell_type": "markdown",
      "metadata": {
        "id": "5W-Oco9FPZgv",
        "colab_type": "text"
      },
      "source": [
        "### Question 4\n",
        "From inspection of the graph above, we can see that Moore's law is keeping up quite nicely, in fact. Take the difference of two years between 1996 and 1998: the difference in base benchmark was of roughly 1 unit. In this case, since we are plotting the $\\log_2{(y)}$ on the y-axis, we have a difference of $1 = \\log_2{(\\Delta y)}\\rightarrow2^1=\\Delta y$. In other words, the difference in benchmark was of 2 units in two years, which is in line with Moore's law. Note that the slpe and intecepts of my model, outputted below the chart, are not useful because of the way my model is convering years to workable numbers using a python datetime.toordinal funciton.\n"
      ]
    },
    {
      "cell_type": "markdown",
      "metadata": {
        "id": "nxaTHJE1SZca",
        "colab_type": "text"
      },
      "source": [
        "## Part 2: MNIST Digits\n",
        "### Question 1 & 2\n",
        "Below, I use code taken from scikit learn to import and print the first 5 MNIST Digits:\n",
        "\n"
      ]
    },
    {
      "cell_type": "code",
      "metadata": {
        "id": "Es1tnjkjWi4L",
        "colab_type": "code",
        "colab": {
          "base_uri": "https://localhost:8080/",
          "height": 1000
        },
        "outputId": "0b2dcfb5-6bf0-4746-e15d-f8c03221bdda"
      },
      "source": [
        "from sklearn.datasets import load_digits\n",
        "digits = load_digits()\n",
        "\n",
        "import matplotlib.pyplot as plt \n",
        "for i in range(5):\n",
        "  plt.gray() \n",
        "  plt.matshow(digits.images[i]) \n",
        "  plt.show() "
      ],
      "execution_count": 18,
      "outputs": [
        {
          "output_type": "display_data",
          "data": {
            "text/plain": [
              "<Figure size 432x288 with 0 Axes>"
            ]
          },
          "metadata": {
            "tags": []
          }
        },
        {
          "output_type": "display_data",
          "data": {
            "image/png": "[encoded data removed]",
            "text/plain": [
              "<Figure size 288x288 with 1 Axes>"
            ]
          },
          "metadata": {
            "tags": []
          }
        },
        {
          "output_type": "display_data",
          "data": {
            "text/plain": [
              "<Figure size 432x288 with 0 Axes>"
            ]
          },
          "metadata": {
            "tags": []
          }
        },
        {
          "output_type": "display_data",
          "data": {
            "image/png": "[encoded data removed]",
            "text/plain": [
              "<Figure size 288x288 with 1 Axes>"
            ]
          },
          "metadata": {
            "tags": []
          }
        },
        {
          "output_type": "display_data",
          "data": {
            "text/plain": [
              "<Figure size 432x288 with 0 Axes>"
            ]
          },
          "metadata": {
            "tags": []
          }
        },
        {
          "output_type": "display_data",
          "data": {
            "image/png": "[encoded data removed]",
            "text/plain": [
              "<Figure size 288x288 with 1 Axes>"
            ]
          },
          "metadata": {
            "tags": []
          }
        },
        {
          "output_type": "display_data",
          "data": {
            "text/plain": [
              "<Figure size 432x288 with 0 Axes>"
            ]
          },
          "metadata": {
            "tags": []
          }
        },
        {
          "output_type": "display_data",
          "data": {
            "image/png": "[encoded data removed]",
            "text/plain": [
              "<Figure size 288x288 with 1 Axes>"
            ]
          },
          "metadata": {
            "tags": []
          }
        },
        {
          "output_type": "display_data",
          "data": {
            "text/plain": [
              "<Figure size 432x288 with 0 Axes>"
            ]
          },
          "metadata": {
            "tags": []
          }
        },
        {
          "output_type": "display_data",
          "data": {
            "image/png": "[encoded data removed]",
            "text/plain": [
              "<Figure size 288x288 with 1 Axes>"
            ]
          },
          "metadata": {
            "tags": []
          }
        }
      ]
    },
    {
      "cell_type": "markdown",
      "metadata": {
        "id": "ocBr9HNwXKLX",
        "colab_type": "text"
      },
      "source": [
        "### Question 3 & 4\n",
        "\n",
        "Below, I first prepare the data in the MNIST dataset for training by filtering out all digits except for 3 and 7. I then split the data into traing and testing sets, I train my data, and I verify error rates by looking at the 'accuracy' score:"
      ]
    },
    {
      "cell_type": "code",
      "metadata": {
        "id": "7Z2HuyRCYVS_",
        "colab_type": "code",
        "colab": {
          "base_uri": "https://localhost:8080/",
          "height": 35
        },
        "outputId": "19ddd103-c040-471c-fb19-e719d9e2ad0c"
      },
      "source": [
        "from sklearn.neighbors import NearestCentroid\n",
        "from sklearn.neighbors import KNeighborsClassifier\n",
        "from sklearn.model_selection import train_test_split\n",
        "from sklearn.metrics import accuracy_score\n",
        "import numpy as np\n",
        "\n",
        "#Below, I filter the digits data to contain only the data and targets for 3s and 7s\n",
        "the_data = digits.data[digits.target==(3 or 7)]\n",
        "\n",
        "#Here I create a targets np.array with only 3s and 7s\n",
        "the_targets = []\n",
        "for i in range(len(the_data)):\n",
        "  if i%2 ==0:\n",
        "    the_targets.append(3)\n",
        "  else:\n",
        "    the_targets.append(7)\n",
        "  \n",
        "\n",
        "#Here I split the data between test and train sets\n",
        "X_train = the_data[0:100]\n",
        "y_train = the_targets[0:100]\n",
        "X_test = the_data[100:]\n",
        "y_test = the_targets[100:]\n",
        "\n",
        "#Here I implement the K nearest neighbors with the classic approach\n",
        "knn = KNeighborsClassifier(n_neighbors=5)\n",
        "knn.fit(X_train, y_train)\n",
        "\n",
        "#Here I predict the classes in y based on my now trained model\n",
        "y_predict = knn.predict(X_test)\n",
        "\n",
        "#Finally, I print the accuracy score comparing predictions to actual classification\n",
        "print(accuracy_score(y_test, y_predict))\n",
        "\n"
      ],
      "execution_count": 126,
      "outputs": [
        {
          "output_type": "stream",
          "text": [
            "0.5903614457831325\n"
          ],
          "name": "stdout"
        }
      ]
    },
    {
      "cell_type": "markdown",
      "metadata": {
        "id": "5jtw7Zxwo6Gx",
        "colab_type": "text"
      },
      "source": [
        "I obtained a score of $\\approx$55% accuracy. Note that I chose n = 5 arbitrarily for this classifier. A question I have is whether I can improve my accuracy by changing n. To answer this, I varied the n from 1 to 10, and created the chart below comparing the value of n and the accuracy rate:"
      ]
    },
    {
      "cell_type": "code",
      "metadata": {
        "id": "Zn_FXHvNqVBY",
        "colab_type": "code",
        "colab": {
          "base_uri": "https://localhost:8080/",
          "height": 297
        },
        "outputId": "f5a0ac95-132a-4afb-ff72-1c94961ecacd"
      },
      "source": [
        "nlist=[]\n",
        "accuracylist=[]\n",
        "\n",
        "for i in range(1, 20):\n",
        "  knn = KNeighborsClassifier(n_neighbors=i)\n",
        "  knn.fit(X_train, y_train)\n",
        "  y_predict = knn.predict(X_test)\n",
        "  accuracy = accuracy_score(y_test, y_predict)\n",
        "  nlist.append(i)\n",
        "  accuracylist.append(accuracy)\n",
        "\n",
        "\n",
        "\n",
        "plt.plot(nlist, accuracylist)\n",
        "plt.ylabel(\"Accuracy\")\n",
        "plt.xlabel(\"N for number of Nearest Neighbors\")"
      ],
      "execution_count": 139,
      "outputs": [
        {
          "output_type": "execute_result",
          "data": {
            "text/plain": [
              "Text(0.5, 0, 'N for number of Nearest Neighbors')"
            ]
          },
          "metadata": {
            "tags": []
          },
          "execution_count": 139
        },
        {
          "output_type": "display_data",
          "data": {
            "image/png": "[encoded data removed]",
            "text/plain": [
              "<Figure size 432x288 with 1 Axes>"
            ]
          },
          "metadata": {
            "tags": []
          }
        }
      ]
    },
    {
      "cell_type": "markdown",
      "metadata": {
        "id": "_k0w8Ki2sx0v",
        "colab_type": "text"
      },
      "source": [
        "Interestingly, it seems that the best possible case is when we classify a digit according to its sole nearest neighbor!"
      ]
    },
    {
      "cell_type": "code",
      "metadata": {
        "id": "GYWXtEPXP_B4",
        "colab_type": "code",
        "colab": {
          "base_uri": "https://localhost:8080/",
          "height": 126
        },
        "outputId": "d0d9fbbb-11d9-42c8-e2f6-ea8baf02ed6a"
      },
      "source": [
        "from google.colab import drive\n",
        "drive.mount('/content/drive')"
      ],
      "execution_count": 4,
      "outputs": [
        {
          "output_type": "stream",
          "text": [
            "Go to this URL in a browser: https://accounts.google.com/o/oauth2/auth?client_id=947318989803-6bn6qk8qdgf4n4g3pfee6491hc0brc4i.apps.googleusercontent.com&redirect_uri=urn%3aietf%3awg%3aoauth%3a2.0%3aoob&response_type=code&scope=email%20https%3a%2f%2fwww.googleapis.com%2fauth%2fdocs.test%20https%3a%2f%2fwww.googleapis.com%2fauth%2fdrive%20https%3a%2f%2fwww.googleapis.com%2fauth%2fdrive.photos.readonly%20https%3a%2f%2fwww.googleapis.com%2fauth%2fpeopleapi.readonly\n",
            "\n",
            "Enter your authorization code:\n",
            "··········\n",
            "Mounted at /content/drive\n"
          ],
          "name": "stdout"
        }
      ]
    }
  ]
}