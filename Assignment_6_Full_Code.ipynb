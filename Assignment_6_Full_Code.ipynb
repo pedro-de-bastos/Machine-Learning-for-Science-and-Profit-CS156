{
  "nbformat": 4,
  "nbformat_minor": 0,
  "metadata": {
    "colab": {
      "name": "Assignment 6 Full Code.ipynb",
      "provenance": [],
      "authorship_tag": "ABX9TyO/GKypsgBvwy5Zv6V+hxd6",
      "include_colab_link": true
    },
    "kernelspec": {
      "name": "python3",
      "display_name": "Python 3"
    }
  },
  "cells": [
    {
      "cell_type": "markdown",
      "metadata": {
        "id": "view-in-github",
        "colab_type": "text"
      },
      "source": [
        "<a href=\"https://colab.research.google.com/github/pedro-de-bastos/cs156/blob/master/Assignment_6_Full_Code.ipynb\" target=\"_parent\"><img src=\"https://colab.research.google.com/assets/colab-badge.svg\" alt=\"Open In Colab\"/></a>"
      ]
    },
    {
      "cell_type": "markdown",
      "metadata": {
        "id": "7Onkq5kRGlgy",
        "colab_type": "text"
      },
      "source": [
        "# SVM Fitting"
      ]
    },
    {
      "cell_type": "code",
      "metadata": {
        "id": "FWdzWnMyGi8F",
        "colab_type": "code",
        "colab": {}
      },
      "source": [
        "\n",
        "import glob\n",
        "import numpy as np\n",
        "from PIL import Image\n",
        "\n",
        "#Getting the file names. Note that I already separate between male and female clothes.\n",
        "#male = glob.glob(\"/content/drive/My Drive/CS156/Assignment 4 Data Pictures/Man's Clothing - n03746330/n03746330*\")\n",
        "#female = glob.glob(\"/content/drive/My Drive/CS156/Assignment 4 Data Pictures/Woman's Clothing - n04596852/n04596852*\")\n",
        "male = glob.glob(\"n03746330*\")\n",
        "female = glob.glob(\"n04596852*\")\n",
        "\n",
        "male_data = []\n",
        "female_data = []\n",
        "\n",
        "#Opening the image files, resizing them to standardize the procedure, and transforming the image into an array\n",
        "for file in male:\n",
        "    pic = Image.open(file)\n",
        "    pic = pic.resize((200, 200), resample=0)\n",
        "    pic = np.asarray(pic)\n",
        "    male_data.append(pic)\n",
        "\n",
        "for file in female:\n",
        "    pic = Image.open(file)\n",
        "    pic = pic.resize((200, 200), resample=0)\n",
        "    pic = np.asarray(pic)\n",
        "    female_data.append(pic)\n",
        "\n",
        "#Flattening the arrays to make the data readable by SKLearn classifiers\n",
        "for index, file in enumerate(female_data):\n",
        "    female_data[index] = np.ndarray.flatten(female_data[index])\n",
        "\n",
        "for index, file in enumerate(male_data):\n",
        "    male_data[index] = np.ndarray.flatten(male_data[index])\n",
        "\n",
        "#Separating our data for training\n",
        "trainf = female_data[0:600]\n",
        "trainm = male_data[0:600]\n",
        "train = np.asarray(trainf + trainm)\n",
        "train_classes = np.asarray(list(np.ones(len(trainf)))+list(np.zeros(len(trainm))))\n",
        "\n",
        "#Separating our data for testing\n",
        "testf = female_data[600:]\n",
        "testm = male_data[600:]\n",
        "test = np.asarray(testf + testm)\n",
        "test_classes = np.asarray(list(np.ones(len(testf)))+list(np.zeros(len(testm))))\n",
        "\n",
        "#Creating my model\n",
        "from sklearn.svm import SVC\n",
        "clf_rbf = SVC(kernel='rbf', gamma='auto')\n",
        "clf_poly = SVC(kernel='poly', degree=2, gamma='auto')\n",
        "clf_lin = SVC(kernel='linear', gamma='auto')\n",
        "\n",
        "#Creating a function that will fit my model to both test and train data, and return accuracy rates\n",
        "from sklearn.metrics import accuracy_score\n",
        "def fit_and_accuracy(X_train, y_train, X_test, y_test, clf):\n",
        "    clf.fit(X_train, y_train)\n",
        "    y_train_pred = clf.predict(X_train)\n",
        "    train_accuracy = accuracy_score(y_train_pred, y_train)\n",
        "    y_test_pred = clf.predict(X_test)\n",
        "    test_accuracy = accuracy_score(y_test_pred, y_test)\n",
        "    print(\"Your accuracy score on the training data is:\", train_accuracy)\n",
        "    print(\"Your accuracy score on the test data is:\", test_accuracy)\n",
        "    return train_accuracy, test_accuracy\n",
        "\n",
        "fit_and_accuracy(train, train_classes, test, test_classes, clf_poly)\n",
        "fit_and_accuracy(train, train_classes, test, test_classes, clf_lin)\n",
        "fit_and_accuracy(train, train_classes, test, test_classes, clf_rbf)"
      ],
      "execution_count": 0,
      "outputs": []
    },
    {
      "cell_type": "markdown",
      "metadata": {
        "id": "0ZD56XZWGqb3",
        "colab_type": "text"
      },
      "source": [
        "# VGG16"
      ]
    },
    {
      "cell_type": "code",
      "metadata": {
        "id": "AALgMZLBGp05",
        "colab_type": "code",
        "colab": {}
      },
      "source": [
        "import keras,os\n",
        "from keras.models import Sequential\n",
        "from keras.layers import Dense, Conv2D, MaxPool2D , Flatten\n",
        "from keras.preprocessing.image import ImageDataGenerator\n",
        "import numpy as np\n",
        "\n",
        "trdata = ImageDataGenerator()\n",
        "traindata = trdata.flow_from_directory(directory=\"train\",target_size=(224,224))\n",
        "tsdata = ImageDataGenerator()\n",
        "testdata = tsdata.flow_from_directory(directory=\"test\", target_size=(224,224))\n",
        "\n",
        "#The Neural Network\n",
        "model = Sequential()\n",
        "model.add(Conv2D(input_shape=(224,224,3),filters=64,kernel_size=(3,3),padding=\"same\", activation=\"relu\"))\n",
        "model.add(Conv2D(filters=64,kernel_size=(3,3),padding=\"same\", activation=\"relu\"))\n",
        "model.add(MaxPool2D(pool_size=(2,2),strides=(2,2)))\n",
        "model.add(Conv2D(filters=128, kernel_size=(3,3), padding=\"same\", activation=\"relu\"))\n",
        "model.add(Conv2D(filters=128, kernel_size=(3,3), padding=\"same\", activation=\"relu\"))\n",
        "model.add(MaxPool2D(pool_size=(2,2),strides=(2,2)))\n",
        "model.add(Conv2D(filters=256, kernel_size=(3,3), padding=\"same\", activation=\"relu\"))\n",
        "model.add(Conv2D(filters=256, kernel_size=(3,3), padding=\"same\", activation=\"relu\"))\n",
        "model.add(Conv2D(filters=256, kernel_size=(3,3), padding=\"same\", activation=\"relu\"))\n",
        "model.add(MaxPool2D(pool_size=(2,2),strides=(2,2)))\n",
        "model.add(Conv2D(filters=512, kernel_size=(3,3), padding=\"same\", activation=\"relu\"))\n",
        "model.add(Conv2D(filters=512, kernel_size=(3,3), padding=\"same\", activation=\"relu\"))\n",
        "model.add(Conv2D(filters=512, kernel_size=(3,3), padding=\"same\", activation=\"relu\"))\n",
        "model.add(MaxPool2D(pool_size=(2,2),strides=(2,2)))\n",
        "model.add(Conv2D(filters=512, kernel_size=(3,3), padding=\"same\", activation=\"relu\"))\n",
        "model.add(Conv2D(filters=512, kernel_size=(3,3), padding=\"same\", activation=\"relu\"))\n",
        "model.add(Conv2D(filters=512, kernel_size=(3,3), padding=\"same\", activation=\"relu\"))\n",
        "model.add(MaxPool2D(pool_size=(2,2),strides=(2,2)))\n",
        "model.add(Flatten())\n",
        "model.add(Dense(units=4096,activation=\"relu\"))\n",
        "model.add(Dense(units=4096,activation=\"relu\"))\n",
        "model.add(Dense(units=2, activation=\"softmax\"))\n",
        "from keras.optimizers import Adam\n",
        "opt = Adam(lr=0.001)\n",
        "model.compile(optimizer=opt, loss=keras.losses.categorical_crossentropy, metrics=['accuracy'])\n",
        "\n",
        "from keras.callbacks import ModelCheckpoint, EarlyStopping\n",
        "checkpoint = ModelCheckpoint(\"vgg16_1.h5\", monitor='val_acc', verbose=1, save_best_only=True, save_weights_only=False, mode='auto', period=1)\n",
        "early = EarlyStopping(monitor='val_acc', min_delta=0, patience=20, verbose=1, mode='auto')\n",
        "hist = model.fit_generator(steps_per_epoch=1,generator=traindata, validation_data= testdata, validation_steps=10,epochs=100,callbacks=[checkpoint,early])\n",
        "\n",
        "model.evaluate_generator(testdata)\n",
        "model.metrics_names"
      ],
      "execution_count": 0,
      "outputs": []
    }
  ]
}