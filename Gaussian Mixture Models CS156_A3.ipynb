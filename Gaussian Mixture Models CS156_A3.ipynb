{
  "nbformat": 4,
  "nbformat_minor": 0,
  "metadata": {
    "colab": {
      "name": "CS156_A3.ipynb",
      "provenance": [],
      "collapsed_sections": [],
      "authorship_tag": "ABX9TyPRyKR1RXsUXcKJE502wUUs",
      "include_colab_link": true
    },
    "kernelspec": {
      "name": "python3",
      "display_name": "Python 3"
    }
  },
  "cells": [
    {
      "cell_type": "markdown",
      "metadata": {
        "id": "view-in-github",
        "colab_type": "text"
      },
      "source": [
        "<a href=\"https://colab.research.google.com/github/pedro-de-bastos/cs156/blob/master/CS156_A3.ipynb\" target=\"_parent\"><img src=\"https://colab.research.google.com/assets/colab-badge.svg\" alt=\"Open In Colab\"/></a>"
      ]
    },
    {
      "cell_type": "markdown",
      "metadata": {
        "id": "9gm3jiu_Xn8f",
        "colab_type": "text"
      },
      "source": [
        "# CS156 Assignment 3"
      ]
    },
    {
      "cell_type": "markdown",
      "metadata": {
        "id": "vgMJMHvMi3WB",
        "colab_type": "text"
      },
      "source": [
        "Access my code and data on GitHub here:\n"
      ]
    },
    {
      "cell_type": "markdown",
      "metadata": {
        "id": "ifzGKW_GXtxU",
        "colab_type": "text"
      },
      "source": [
        "## 1.) Importing and Cleaning Up the Data"
      ]
    },
    {
      "cell_type": "code",
      "metadata": {
        "id": "uFJMdNanbi6y",
        "colab_type": "code",
        "colab": {
          "base_uri": "https://localhost:8080/",
          "height": 34
        },
        "outputId": "620c9f25-19b8-4dc5-bffd-dc019c5813db"
      },
      "source": [
        "## IMPORTING AND CLEANING UP THE DATA\n",
        "\n",
        "import pandas as pd\n",
        "from glob import glob\n",
        "from sklearn.metrics.pairwise import rbf_kernel\n",
        "from sklearn.linear_model import Ridge\n",
        "import matplotlib.pyplot as plt\n",
        "import numpy as np\n",
        "\n",
        "data=pd.read_csv(\"/content/CRNS0101-05-2011-CA_Yosemite_Village_12_W.csv\", header=None, low_memory=False)\n",
        "\n",
        "#Adding label names from the README file and later to the PANDAS dataframe: \n",
        "headers = \"WBANNO, UTC_DATE, UTC_TIME, LST_DATE, LST_TIME, CRX_VN, LONGITUDE, LATITUDE, AIR_TEMPERATURE, PRECIPITATION, SOLAR_RADIATION, SR_FLAG, SURFACE_TEMPERATURE, ST_TYPE, ST_FLAG, RELATIVE_HUMIDITY, RH_FLAG, SOIL_MOISTURE_5, SOIL_TEMPERATURE_5, WETNESS, WET_FLAG, WIND_1_5, WIND_FLAG\"\n",
        "headers = headers.split(\",\")\n",
        "\n",
        "#Importing the data from the directory using glob() to get file names\n",
        "filenames = files = glob('*.csv') \n",
        "for file in filenames:\n",
        "  data = pd.concat([data, pd.read_csv(file, header=None, low_memory=False)])\n",
        "\n",
        "#Adding the headers\n",
        "data.columns = headers\n",
        "\n",
        "#Important month length info for my date do day function\n",
        "month_lenghts_2012_2016 = [31, 29, 31, 30, 31, 30, 31, 31, 30, 31, 30, 31]\n",
        "month_lengths = [31, 28, 31, 30, 31, 30, 31, 31, 30, 31, 30, 31]\n",
        "\n",
        "#Function that converts dates to 'day of the year out of 365', taking leap years\n",
        "#into consideration\n",
        "def date_to_day(date):\n",
        "  year = str(date)[0:4]\n",
        "  month = str(date)[4:6]\n",
        "  day = str(date)[6:]\n",
        "  if year == \"2012\" or year == \"2016\":\n",
        "    num = sum(month_lenghts_2012_2016[0:int(month)-1])\n",
        "    num = num + float(day)\n",
        "  else:\n",
        "    num = sum(month_lengths[0:int(month)-1])\n",
        "    num = num + float(day)\n",
        "  return num\n",
        "\n",
        "#Funtion that converts hour of the day into minute of the day (out of 3600)\n",
        "def hour_to_min(hour):\n",
        "  if len(str(hour))==1:\n",
        "    hour = \"000\"+str(hour)\n",
        "  elif len(str(hour))==2:\n",
        "    hour = \"00\"+str(hour)\n",
        "  elif len(str(hour))==3:\n",
        "    hour = \"0\"+str(hour)\n",
        "  else:\n",
        "    hour = str(hour)\n",
        "  hours = hour[0:2]\n",
        "  mins = hour[2:]\n",
        "  num = float(hours)*60+float(mins)\n",
        "  return num\n",
        "\n",
        "#Function that turns strings into floats (and accounts for a cople of entries\n",
        "#that are poorly added to the dataset\n",
        "def string_to_float(str):\n",
        "  try:\n",
        "    return float(str)\n",
        "  except:\n",
        "    return float(str[0:4])\n",
        "\n",
        "#Applying my functions to the date and time columns\n",
        "data.columns\n",
        "data[' LST_DATE'] = data[' LST_DATE'].apply(date_to_day)\n",
        "data[' LST_TIME'] = data[' LST_TIME'].apply(hour_to_min)\n",
        "data[' UTC_DATE'].apply(string_to_float)\n",
        "\n",
        "#Note: I found that many entries in the data set had temperature as -999 and \n",
        "#-9999, so I removed these rows\n",
        "data[' AIR_TEMPERATURE'] = data[' AIR_TEMPERATURE'].apply(string_to_float)\n",
        "is_error = data[' AIR_TEMPERATURE'] == -999\n",
        "data = data[~is_error]\n",
        "is_error = data[' AIR_TEMPERATURE'] == -9999\n",
        "data = data[~is_error]\n",
        "\n",
        "#Here I separate data between training and testing sets, leaving 2016 as a train\n",
        "#set:\n",
        "data_test = data[data[' UTC_DATE']>20151231]\n",
        "data_train = data[data[' UTC_DATE']<=20151231]\n",
        "\n",
        "#Below I set a variable 'temps' to be our test for the predicted temps\n",
        "temps_test = np.asarray(data_test[[' AIR_TEMPERATURE']]).reshape(-1, 1)\n",
        "temps_train = np.asarray(data_train[[' AIR_TEMPERATURE']]).reshape(-1, 1)"
      ],
      "execution_count": 169,
      "outputs": [
        {
          "output_type": "execute_result",
          "data": {
            "text/plain": [
              "630447"
            ]
          },
          "metadata": {
            "tags": []
          },
          "execution_count": 169
        }
      ]
    },
    {
      "cell_type": "markdown",
      "metadata": {
        "id": "nbfNCGEbXz5k",
        "colab_type": "text"
      },
      "source": [
        "In short, my code above imports the data from the local directory, 'cleans up' oddly inputted entries, transforms times and dates into a more usable format as described in the assignment's prompt, and separates the data into test and training sets."
      ]
    },
    {
      "cell_type": "markdown",
      "metadata": {
        "id": "N0ofzBYYZVIs",
        "colab_type": "text"
      },
      "source": [
        "## 2.) Model Based on Date (Day Of the Year) Only"
      ]
    },
    {
      "cell_type": "markdown",
      "metadata": {
        "id": "5TxhwWKFZcT4",
        "colab_type": "text"
      },
      "source": [
        "My approach to (a) choosing the number of RBFs that compose my model and (b) setting their centers was to first plot the data, and then, by visual inspection, infer where the 'bumps' lie. Then, my approach to choose the optimal 'sigma'(i.e. the 'width' of each bump) was to perform trial and error testing, using $R^2$ as my indicator of how well I was doing."
      ]
    },
    {
      "cell_type": "code",
      "metadata": {
        "id": "2oPs2Kre7wll",
        "colab_type": "code",
        "colab": {
          "base_uri": "https://localhost:8080/",
          "height": 298
        },
        "outputId": "86a82423-2c5d-4757-ad8c-0e8b651bed3f"
      },
      "source": [
        "## MODEL BASED ON DATE (DAY OF THE YEAR) ONLY\n",
        "days_train = np.asarray(data_train[[' LST_DATE']]).reshape(-1, 1)\n",
        "days_test = np.asarray(data_test[[' LST_DATE']]).reshape(-1, 1)\n",
        "centers_days = np.asarray([16, 40, 75, 125, 175, 225, 275, 325]).reshape(-1, 1)\n",
        "\n",
        "alpha = 0.01\n",
        "sigma_days = 30000\n",
        "\n",
        "# New representation for days (train set):\n",
        "x1_train = rbf_kernel(days_train, centers_days, gamma=1.0/sigma_days)\n",
        "\n",
        "# New representation for days (test set):\n",
        "x1_test = rbf_kernel(days_test, centers_days, gamma=1.0/sigma_days)\n",
        "\n",
        "#Fitting a Ridge model\n",
        "regr1 = Ridge(alpha=alpha, fit_intercept=False)\n",
        "regr1.fit(x1_train, temps_train)\n",
        "\n",
        "#Score on our training data\n",
        "print(\"Score on training data = \", regr1.score(x1_train, temps_train))\n",
        "\n",
        "#Score on our testing data\n",
        "print(\"Score on test data = \", regr1.score(x1_test, temps_test))\n",
        "\n",
        "#Predicting our temps in the train set (to visualize)\n",
        "temp_predict = regr1.predict(x1_train)\n",
        "\n",
        "#Plotting our predictions versus the real data\n",
        "plt.scatter(days_train, temps_train)\n",
        "plt.scatter(days_train, temp_predict)\n",
        "plt.show()"
      ],
      "execution_count": 203,
      "outputs": [
        {
          "output_type": "stream",
          "text": [
            "Score on training data =  0.5630452672852966\n",
            "Score on test data =  0.5815430281875631\n"
          ],
          "name": "stdout"
        },
        {
          "output_type": "display_data",
          "data": {
            "image/png": "[encoded data removed]",
            "text/plain": [
              "<Figure size 432x288 with 1 Axes>"
            ]
          },
          "metadata": {
            "tags": []
          }
        }
      ]
    },
    {
      "cell_type": "markdown",
      "metadata": {
        "id": "FDoAhEcsZ2lU",
        "colab_type": "text"
      },
      "source": [
        "The values for $R^2$ were $\\approx0.56$ on the train set and $\\approx 0.58$ on the test set. Note that I 'guessed and checked' the sigma based on how the graph looked, and on the $R^2$ results. Note that the fact that $R^2$ for the test set was larger gave me confidence that my model is not overfitting."
      ]
    },
    {
      "cell_type": "markdown",
      "metadata": {
        "id": "wEFmS9mTbu0z",
        "colab_type": "text"
      },
      "source": [
        "## 3.) Model Based on Hours (Minute of the Day) Only"
      ]
    },
    {
      "cell_type": "markdown",
      "metadata": {
        "id": "YvK0TrSPb0c4",
        "colab_type": "text"
      },
      "source": [
        "To choose the number and position of centers, I used the same approach as above: I visually identified where the bumps would fit best based on a plot of the raw data."
      ]
    },
    {
      "cell_type": "code",
      "metadata": {
        "id": "tZi_u_ev9boR",
        "colab_type": "code",
        "colab": {
          "base_uri": "https://localhost:8080/",
          "height": 313
        },
        "outputId": "c79f1643-4fb6-4972-d647-3415880df0de"
      },
      "source": [
        "## MODEL BASED ON TIME OF DAY (IN MIN) ONLY\n",
        "times_train = np.asarray(data_train[[' LST_TIME']]).reshape(-1, 1)\n",
        "times_test = np.asarray(data_test[[' LST_TIME']]).reshape(-1, 1)\n",
        "\n",
        "centers_times = np.asarray([50, 100, 175, 300, 400, 500, 610, 700, 830, 900, 1000, 1120, 1200, 1300, 1400]).reshape(-1, 1)\n",
        "\n",
        "alpha = 0.01\n",
        "sigma_times = 10000\n",
        "\n",
        "#New representation for hours (train set):\n",
        "x2_train = rbf_kernel(times_train, centers_times, gamma=1.0/sigma_times)\n",
        "\n",
        "#New representation for hours (test set):\n",
        "x2_test = rbf_kernel(times_test, centers_times, gamma=1.0/sigma_times)\n",
        "\n",
        "#Fitting a Ridge model\n",
        "regr2 = Ridge(alpha=alpha, fit_intercept=False)\n",
        "regr2.fit(x2_train, temps_train)\n",
        "\n",
        "#Score on our training data\n",
        "print(\"Score on training data = \", regr2.score(x2_train, temps_train))\n",
        "\n",
        "#Score on our testing data\n",
        "print(\"Score on our testing data =\", regr2.score(x2_test, temps_test))\n",
        "\n",
        "#Predicting our temps in the train set (to visualize)\n",
        "temp_predict = regr2.predict(x2_train)\n",
        "\n",
        "#Plotting our predictions versus the real data\n",
        "plt.scatter(times_train, temps_train)\n",
        "plt.scatter(times_train, temp_predict)\n",
        "plt.ylabel(\"Temperature\")\n",
        "plt.xlabel('Time of the Day in Minutes')\n",
        "plt.show()"
      ],
      "execution_count": 218,
      "outputs": [
        {
          "output_type": "stream",
          "text": [
            "Score on training data =  0.039624355988470916\n",
            "Score on our testing data = 0.04075678398605587\n"
          ],
          "name": "stdout"
        },
        {
          "output_type": "display_data",
          "data": {
            "image/png": "[encoded data removed]",
            "text/plain": [
              "<Figure size 432x288 with 1 Axes>"
            ]
          },
          "metadata": {
            "tags": []
          }
        }
      ]
    },
    {
      "cell_type": "markdown",
      "metadata": {
        "id": "tL2JjRvHeazx",
        "colab_type": "text"
      },
      "source": [
        "Again, to choose the best sigma I employed a 'guess and check' approach, wherein I attempted to find a local minima by noting how the rate of change of $R^2$ as a function of $\\sigma$ was behaving. A more sophisticated approach would have been to code a function for $R^2$ as a function of $\\sigma$ and use an optimization algorithm, like gradient climbing, to find a local maximum. That said, I stand by my 'guess and check' tactic because by guessing and checking I was able to find a strong convergence around $R^2\\approx 0.04$, such that using an optimization algorithm might have yielded only a very marginal improvement. Note that the fact that $R^2$ was larger for the test set gave me confidence that my model was not overfitting."
      ]
    },
    {
      "cell_type": "markdown",
      "metadata": {
        "id": "Nj56KMcef-Zh",
        "colab_type": "text"
      },
      "source": [
        "# 4.) Model Based On Time and Date"
      ]
    },
    {
      "cell_type": "code",
      "metadata": {
        "id": "3uVTcWNpmdsW",
        "colab_type": "code",
        "colab": {
          "base_uri": "https://localhost:8080/",
          "height": 50
        },
        "outputId": "8b132b00-8753-483e-e25f-77185bdb0651"
      },
      "source": [
        "## MODEL BASED ON TIME AND DATE\n",
        "\n",
        "#Concatenating information for the training set into a single dataframe\n",
        "X_1 = pd.DataFrame(x1_train)\n",
        "X_2 = pd.DataFrame(x2_train)\n",
        "Xs_train = pd.concat([X_1, X_2], axis=1)\n",
        "ArrayXsTrain = np.asarray(Xs_train)\n",
        "\n",
        "#Concatenating information for the testing set into a single dataframe\n",
        "X_1 = pd.DataFrame(x1_test)\n",
        "X_2 = pd.DataFrame(x2_test)\n",
        "Xs_test = pd.concat([X_1, X_2], axis=1)\n",
        "ArrayXsTest = np.asarray(Xs_test)\n",
        "\n",
        "# Fitting a Linear Model\n",
        "alpha = 0.01\n",
        "regr = Ridge(alpha=alpha, fit_intercept=False)\n",
        "regr.fit(ArrayXsTrain, temps_train)\n",
        "\n",
        "#Score on our training data\n",
        "print(\"Score on training data = \", regr.score(ArrayXsTrain, temps_train))\n",
        "\n",
        "#Score on our test data\n",
        "print(\"SCore on our test data =\", regr.score(ArrayXsTest, temps_test))"
      ],
      "execution_count": 219,
      "outputs": [
        {
          "output_type": "stream",
          "text": [
            "Score on training data =  0.6042933285139387\n",
            "SCore on our test data = 0.6258039869349391\n"
          ],
          "name": "stdout"
        }
      ]
    },
    {
      "cell_type": "markdown",
      "metadata": {
        "id": "Y8AHEocngF_X",
        "colab_type": "text"
      },
      "source": [
        "To implement this model, I concatenated the representations for time and date (according to their respective RBF representations) and used that information to predict temperature. I used the values for $\\sigma$ that I found in sections 2.) and 3.), assuming that the best representations for predicting temperature based on time only and on date only would, when used together, produce the best representation for temperature based on time AND date. This assumption relies on the patterns for temperature given time of day and temperature given hour of day remaining the same when we allow these variables to interact, but this is very likely an oversimplification. \n",
        "\n",
        "Nevertheless, knowing that these interactions may get very complicated, I decided that optimizing $\\sigma$ independently for date and time was a staright-forward and effective stratedgy, but I recognize that a more sophisticated approach (like using a genetic algorithm to optimize for the interactions) might have yielded better results.\n",
        "\n",
        "My $R^2$ results were also decent given this stratedgy: they were $\\approx$0.60 for the training set and $\\approx$0.63 for the test set. The fact that the test set has a higher $R^2$ score made me confident that I was not overfitting the data with my model."
      ]
    }
  ]
}
